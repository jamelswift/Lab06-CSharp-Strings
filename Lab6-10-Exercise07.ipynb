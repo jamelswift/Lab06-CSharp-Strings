{
 "cells": [
  {
   "cell_type": "markdown",
   "metadata": {
    "dotnet_interactive": {
     "language": "csharp"
    },
    "polyglot_notebook": {
     "kernelName": "csharp"
    }
   },
   "source": [
    "# Lab 6 Exercise 7"
   ]
  },
  {
   "cell_type": "markdown",
   "metadata": {},
   "source": [
    "\n",
    "## Substrings\n",
    "\n",
    "Substrings ใช้สร้าง string ใหม่จากส่วนหนึ่งของ string  ต้นฉบับ \n",
    "การกระทำของ method ต่างๆ จะไม่มีการแก้ไขสตริงดั้งเดิม "
   ]
  },
  {
   "cell_type": "markdown",
   "metadata": {},
   "source": [
    "## การปฏิบัติ"
   ]
  },
  {
   "cell_type": "markdown",
   "metadata": {},
   "source": [
    "1. สร้าง project ใหม่\n",
    "\n",
    ">   ```\n",
    ">       dotnet new console -n Lab06_Exercise07\n",
    ">   ```"
   ]
  },
  {
   "cell_type": "markdown",
   "metadata": {},
   "source": [
    "2. แก้ไข code ใน Program.cs เป็นดังนี้"
   ]
  },
  {
   "cell_type": "markdown",
   "metadata": {},
   "source": [
    "\n",
    "2.1 Program #1\n",
    "\n",
    ">   ```c#\n",
    ">       string s1 = \"I \\u0003 Visual C# \";\n",
    ">       System.Console.WriteLine($\"s1 = {s1}\");\n",
    ">       \n",
    ">       // 1. เมธอด IndexOf() ใช้ค้นหาลำดับที่ของอักขระที่ปรากฏใน string และส่งค่าตำแหน่งที่พบมาให้ (Zero index)\n",
    ">       var indexOfC = s1.IndexOf(\"C\");\n",
    ">       System.Console.WriteLine($\"Index of C in s1 = {indexOfC}\");\n",
    ">       \n",
    ">       // 2. เมธอด Substring(  ) คัดลอกบางส่วนของ string ต้นฉบับออกมา โดยการระบุพารามิเตอร์ >    ตำแหน่ งเริ่มต้นและความยาวที่ต้องการ \n",
    ">       var substring = s1.Substring(indexOfC, 2);\n",
    ">       System.Console.WriteLine($\"s1.Substring({indexOfC}, 2) = {substring}\");\n",
    ">       \n",
    ">       // 3. เมธอด Replace(  ) ใช้แทนที่บางส่วนของ string  ด้วย string ที่กำหนด \n",
    ">       System.Console.WriteLine($\"Replace C# with Basic and write to s2\");\n",
    ">       System.Console.WriteLine($\"Before replace s1.hashcode = {s1.GetHashCode():X}\"); \n",
    ">       var s2 = s1.Replace(\"C#\", \"Basic\");\n",
    ">       System.Console.WriteLine($\"s1 = {s1}\");\n",
    ">       System.Console.WriteLine($\"s2 = {s2}\");\n",
    ">       System.Console.WriteLine($\"After replace s1.hashcode = {s1.GetHashCode():X}\"); \n",
    ">   ```"
   ]
  },
  {
   "cell_type": "markdown",
   "metadata": {},
   "source": [
    "2.2 อธิบายโปรแกรม\n",
    "\n",
    "ให้ศึกษาโปรแกรมด้านบนและอธิบายการทำงาน"
   ]
  },
  {
   "cell_type": "markdown",
   "metadata": {},
   "source": [
    "2.3 รันโปรแกรม\n",
    "\n",
    ">   ```\n",
    ">       dotnet run --project Lab06_Exercise07\n",
    ">   ```\n"
   ]
  },
  {
   "cell_type": "markdown",
   "metadata": {},
   "source": [
    "2.4 commit code  เนื่องจากต้องมีการแก้ไข code "
   ]
  },
  {
   "cell_type": "markdown",
   "metadata": {},
   "source": [
    "3. แก้ไข code ใน Program.cs เป็นดังนี้"
   ]
  },
  {
   "cell_type": "markdown",
   "metadata": {},
   "source": [
    "\n",
    "3.1 Program #2\n",
    "\n",
    ">   ```c#\n",
    ">       string s1 = \"I \\u0003 Visual C# \";\n",
    ">       System.Console.WriteLine($\"s1 = {s1}\");\n",
    ">       \n",
    ">       // 1. เมธอด IndexOf() ใช้ค้นหาลำดับที่ของอักขระที่ปรากฏใน string และส่งค่าตำแหน่งที่พบมาให้ (Zero index)\n",
    ">       var indexOfC = s1.IndexOf(\"C\");\n",
    ">       System.Console.WriteLine($\"Index of C in s1 = {indexOfC}\");\n",
    ">       \n",
    ">       // 2. เมธอด Substring(  ) คัดลอกบางส่วนของ string ต้นฉบับออกมา โดยการระบุพารามิเตอร์ >    ตำแหน่ งเริ่มต้นและความยาวที่ต้องการ \n",
    ">       var substring = s1.Substring(indexOfC, 2);\n",
    ">       System.Console.WriteLine($\"s1.Substring({indexOfC}, 2) = {substring}\");\n",
    ">       \n",
    ">       // 3. เมธอด Replace(  ) ใช้แทนที่บางส่วนของ string  ด้วย string ที่กำหนด \n",
    ">       System.Console.WriteLine($\"Replace C# with Basic and write to s2\");\n",
    ">       System.Console.WriteLine($\"Before replace s1.hashcode = {s1.GetHashCode():X}\"); \n",
    ">       s1 = s1.Replace(\"C#\", \"Basic\");\n",
    ">       System.Console.WriteLine($\"s1 = {s1}\");\n",
    ">       System.Console.WriteLine($\"After replace s1.hashcode = {s1.GetHashCode():X}\"); \n",
    ">   ```\n"
   ]
  },
  {
   "cell_type": "markdown",
   "metadata": {},
   "source": [
    "3.2 อธิบายโปรแกรม\n",
    "\n",
    "ให้ศึกษาโปรแกรมด้านบนและอธิบายการทำงาน"
   ]
  },
  {
   "cell_type": "markdown",
   "metadata": {},
   "source": [
    "โครงสร้างและการทำงาน\n",
    "การใช้อักขระ Unicode (\\u0003):\n",
    "\n",
    "สตริง s1 มีการเพิ่ม Control Character (ETX), ซึ่งจะแสดงผลเป็นอักขระพิเศษ.\n",
    "IndexOf():\n",
    "\n",
    "ใช้ค้นหาตำแหน่งของอักขระ (หรือข้อความ) ภายในสตริง.\n",
    "ส่งกลับตำแหน่งแรกที่พบ.\n",
    "Substring():\n",
    "\n",
    "ใช้คัดลอกข้อความย่อยจากตำแหน่งเริ่มต้น (startIndex) และระบุความยาวที่ต้องการ.\n",
    "Replace():\n",
    "\n",
    "ใช้แทนที่ข้อความบางส่วนของสตริงด้วยข้อความใหม่.\n",
    "สตริงใน C# เป็น Immutable: การ Replace จะคืนค่าสตริงใหม่เสมอ โดยไม่เปลี่ยนแปลงสตริงเดิม.\n",
    "GetHashCode():\n",
    "\n",
    "ใช้ตรวจสอบความไม่เปลี่ยนแปลงของสตริงต้นฉบับ (s1) หลังการ Replace"
   ]
  },
  {
   "cell_type": "markdown",
   "metadata": {},
   "source": [
    "3.3 รันโปรแกรม\n",
    "\n",
    ">   ```cmd\n",
    ">       dotnet run --project Lab06_Exercise07\n",
    ">   ```"
   ]
  },
  {
   "cell_type": "markdown",
   "metadata": {},
   "source": [
    "\n",
    "4. คำถาม\n",
    "\n",
    "โปรแกรม #1 ในข้อ 2 และโปรแกรม #2 ในข้อ 3 มีผลลัพธ์ที่ต่างกันอย่างไร\n",
    "\n",
    "อธิบายว่าทำไมจึงเป็นเช่นนั้น\n"
   ]
  },
  {
   "cell_type": "markdown",
   "metadata": {},
   "source": [
    "ความแตกต่างของผลลัพธ์ระหว่างโปรแกรม #1 (ข้อ 2) และโปรแกรม #2 (ข้อ 3)\n",
    "โปรแกรม #1 (ข้อ 2):\n",
    "\n",
    "1.ใช้เมธอด Substring() เพื่อดึงข้อความบางส่วนจากสตริงต้นฉบับ s1.\n",
    "ผลลัพธ์ที่ได้คือข้อความ \"C#\" ซึ่งเป็นข้อความบางส่วนจากสตริงต้นฉบับ.\n",
    "สตริงต้นฉบับ s1 ไม่ได้เปลี่ยนแปลง เนื่องจากการใช้ Substring() แค่ดึงข้อมูลบางส่วนออกมา.\n",
    "โปรแกรม #2 (ข้อ 3):\n",
    "\n",
    "2.ใช้เมธอด Replace() เพื่อแทนที่ข้อความ \"C#\" ด้วย \"Basic\" ในสตริงต้นฉบับ s1.\n",
    "ผลลัพธ์ที่ได้คือสตริงใหม่ s2 ซึ่งมีข้อความ \"C#\" ถูกแทนที่ด้วย \"Basic\".\n",
    "สตริงต้นฉบับ s1 ยังคงเดิม เพราะสตริงใน C# เป็น Immutable (ไม่สามารถเปลี่ยนแปลงได้โดยตรง).\n",
    "\n",
    "เหตุผลที่ผลลัพธ์แตกต่างกัน\n",
    "วิธีการทำงานของเมธอด:\n",
    "\n",
    "Substring():\n",
    "แค่คัดลอกข้อความบางส่วนจากสตริงต้นฉบับ.\n",
    "ไม่ทำการเปลี่ยนแปลงข้อความในสตริงเดิม.\n",
    "Replace():\n",
    "สร้างสตริงใหม่ที่มีข้อความบางส่วนถูกแทนที่.\n",
    "สตริงต้นฉบับยังคงเดิม.\n",
    "เป้าหมายของโปรแกรม:\n",
    "\n",
    "โปรแกรม #1 เน้นการดึงข้อความบางส่วน.\n",
    "โปรแกรม #2 เน้นการเปลี่ยนข้อความบางส่วนและสร้างสตริงใหม่.\n",
    "Immutable ของสตริง:\n",
    "\n",
    "ทั้งสองโปรแกรมแสดงให้เห็นว่า s1 ไม่ถูกแก้ไขในกระบวนการทำงาน เพราะสตริงใน C# ไม่สามารถเปลี่ยนแปลงได้โดยตรง."
   ]
  },
  {
   "cell_type": "markdown",
   "metadata": {},
   "source": [
    "5. การส่งงาน\n",
    "\n",
    "บันทึกภาพหน้าจอโปรแกรม แนบในใบงานนี้"
   ]
  },
  {
   "attachments": {
    "image.png": {
     "image/png": "[encoded data removed]"
    }
   },
   "cell_type": "markdown",
   "metadata": {},
   "source": [
    "![image.png](attachment:image.png)"
   ]
  }
 ],
 "metadata": {
  "kernelspec": {
   "display_name": ".NET (C#)",
   "language": "C#",
   "name": ".net-csharp"
  },
  "polyglot_notebook": {
   "kernelInfo": {
    "defaultKernelName": "csharp",
    "items": [
     {
      "aliases": [],
      "languageName": "csharp",
      "name": "csharp"
     }
    ]
   }
  }
 },
 "nbformat": 4,
 "nbformat_minor": 2
}
